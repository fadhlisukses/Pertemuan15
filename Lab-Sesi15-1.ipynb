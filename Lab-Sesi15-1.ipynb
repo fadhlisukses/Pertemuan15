{
 "cells": [
  {
   "cell_type": "markdown",
   "metadata": {},
   "source": [
    "<img src=\"img/header.png\"></img>"
   ]
  },
  {
   "cell_type": "markdown",
   "metadata": {},
   "source": [
    "<h2> Menggunakan tweepy untuk Data Crawler </h2>"
   ]
  },
  {
   "cell_type": "code",
   "execution_count": 1,
   "metadata": {
    "collapsed": true
   },
   "outputs": [],
   "source": [
    "#!pip install tweepy"
   ]
  },
  {
   "cell_type": "code",
   "execution_count": 2,
   "metadata": {
    "collapsed": true
   },
   "outputs": [],
   "source": [
    "import tweepy\n",
    "import pandas as pd"
   ]
  },
  {
   "cell_type": "code",
   "execution_count": 3,
   "metadata": {
    "collapsed": true
   },
   "outputs": [],
   "source": [
    "class Stream2Screen(tweepy.StreamListener):\n",
    "\tdef on_status(self, status):\n",
    "\t\tif hasattr(status, 'retweeted_status'):\n",
    "\t\t\ttry:\n",
    "\t\t\t\ttweet = status.retweeted_status.extended_tweet[\"full_text\"]\n",
    "\t\t\texcept:\n",
    "\t\t\t\ttweet = status.retweeted_status.text\n",
    "\t\telse:\n",
    "\t\t\ttry:\n",
    "\t\t\t\ttweet = status.extended_tweet[\"full_text\"]\n",
    "\t\t\texcept AttributeError:\n",
    "\t\t\t\ttweet = status.text"
   ]
  },
  {
   "cell_type": "code",
   "execution_count": 4,
   "metadata": {
    "collapsed": true
   },
   "outputs": [],
   "source": [
    "consumer_key = \"JEj5tRSA9JWjWV6imMOrUIVWV\"        \n",
    "consumer_secret = \"7MEa00KHpUbjxble8pdlV74qPbvW2OHqLtjt45QQraJaAzRmAh\"\n",
    "access_token = \"935208713551364097-W9Oy0IS2M1dRUQS5MZ6Dnz18BkHUP80\"\n",
    "access_secret = \"jCANa7K7werTP2X1mnLlcRBFDHAJt9TZSCbC77FSNCj50\"\n",
    "\n",
    "auth = tweepy.OAuthHandler(consumer_key, consumer_secret)\n",
    "auth.set_access_token(access_token, access_secret)"
   ]
  },
  {
   "cell_type": "code",
   "execution_count": 5,
   "metadata": {
    "collapsed": true
   },
   "outputs": [],
   "source": [
    "api = tweepy.API(auth) # # Construct the API instance\n",
    "#api.update_status('tweepy + oauth!') # coba update status otomatis :D"
   ]
  },
  {
   "cell_type": "code",
   "execution_count": 6,
   "metadata": {},
   "outputs": [
    {
     "name": "stdout",
     "output_type": "stream",
     "text": [
      "BigDataFreeCode\n",
      "935208713551364097\n"
     ]
    }
   ],
   "source": [
    "user = api.get_user(935208713551364097)    \n",
    "print(user.screen_name)\n",
    "\n",
    "user = api.get_user(screen_name = 'BigDataFreeCode')\n",
    "print(user.id)"
   ]
  },
  {
   "cell_type": "code",
   "execution_count": 7,
   "metadata": {},
   "outputs": [],
   "source": [
    "tweets = api.search(q=\"#BigData\", lang=\"id\", count=1000000, tweet_mode=\"extended\", listener=Stream2Screen())"
   ]
  },
  {
   "cell_type": "code",
   "execution_count": 8,
   "metadata": {
    "collapsed": true,
    "scrolled": true
   },
   "outputs": [],
   "source": [
    "all_tweets = []\n",
    "for tweet in tweets:\n",
    "    #print(\"--------------------\")\n",
    "    #print(tweet.full_text)\n",
    "    #print(\"--------------------\\n\")\n",
    "    all_tweets.append({\"text\": tweet.full_text})\n",
    "tweets_df = pd.DataFrame(all_tweets)"
   ]
  },
  {
   "cell_type": "code",
   "execution_count": 9,
   "metadata": {
    "collapsed": true
   },
   "outputs": [],
   "source": [
    "#print(tweets_df.values)"
   ]
  },
  {
   "cell_type": "code",
   "execution_count": 10,
   "metadata": {
    "collapsed": true
   },
   "outputs": [],
   "source": [
    "# export df to json\n",
    "tweets_df.to_json('Data Crawling Tweet 1M.json')"
   ]
  },
  {
   "cell_type": "code",
   "execution_count": 11,
   "metadata": {},
   "outputs": [
    {
     "name": "stdout",
     "output_type": "stream",
     "text": [
      "                                                                                                                                           text\n",
      "0  RT @EvelloCorp: Antarmuka baru, fitur beragam dan unik, teknologi baru. Pemrosesan dan eksekusi lebih cepat. Mesin generasi kedua Evello. #…\n",
      "1  RT @EvelloCorp: Akun @Puspen_TNI ramai menerima mention dukungan netizen setelah beredar video penyerangan terhadap anggota TNI yang diduga…\n"
     ]
    }
   ],
   "source": [
    "# coba print json tersebut\n",
    "pd.options.display.max_colwidth = 280 # sesuaikan dgn maksimal karakter di tweet\n",
    "tweets_json = pd.read_json('Data Crawling Tweet 1M.json')\n",
    "#print(tweets_json)\n",
    "print(tweets_json[:2])"
   ]
  },
  {
   "cell_type": "code",
   "execution_count": 12,
   "metadata": {
    "scrolled": true
   },
   "outputs": [
    {
     "name": "stdout",
     "output_type": "stream",
     "text": [
      "tweepy + oauth!\n"
     ]
    }
   ],
   "source": [
    "# search timeline status id_or_name\n",
    "id_or_name = '935208713551364097'\n",
    "#id_or_name = 'BigDataFreeCode'\n",
    "for status in tweepy.Cursor(api.user_timeline, id=id_or_name, tweet_mode='extended').items(2):\n",
    "    print(status.full_text)"
   ]
  },
  {
   "cell_type": "markdown",
   "metadata": {},
   "source": [
    "### Untuk Data Crawling Streaming"
   ]
  },
  {
   "cell_type": "code",
   "execution_count": 13,
   "metadata": {
    "collapsed": true
   },
   "outputs": [],
   "source": [
    "stream2Screen = Stream2Screen()\n",
    "stream = tweepy.Stream(auth=api.auth, listener=stream2Screen)"
   ]
  },
  {
   "cell_type": "code",
   "execution_count": 14,
   "metadata": {
    "collapsed": true
   },
   "outputs": [],
   "source": [
    "# Dalam contoh ini digunakan filter untuk streaming semua tweet yang berisi kata BigData\n",
    "# Parameter track adalah istilah pencarian untuk streaming\n",
    "#stream.filter(track='BigData')"
   ]
  },
  {
   "cell_type": "code",
   "execution_count": 15,
   "metadata": {
    "collapsed": true
   },
   "outputs": [],
   "source": [
    "# Dalam contoh ini digunakan filter untuk streaming semua tweet yang berisi kata BigData,\n",
    "# lalu me-RT\n",
    "# Parameter track adalah istilah pencarian untuk streaming\n",
    "#stream.filter(track='BigData -RT')\n",
    "\n",
    "# Dalam contoh ini digunakan filter untuk mem-block semua tweet yang berisi kata python,\n",
    "# stream.filter(track=['python'], is_async=True)"
   ]
  },
  {
   "cell_type": "code",
   "execution_count": 16,
   "metadata": {
    "collapsed": true
   },
   "outputs": [],
   "source": [
    "# Dalam contoh ini digunakan filter untuk streaming tweet pada spesifik user by ID,\n",
    "#stream.filter(follow=[\"935208713551364097\"])"
   ]
  },
  {
   "cell_type": "markdown",
   "metadata": {
    "collapsed": true
   },
   "source": [
    "<img src=\"img/thumbs-up.png\"></img>"
   ]
  },
  {
   "cell_type": "code",
   "execution_count": null,
   "metadata": {
    "collapsed": true
   },
   "outputs": [],
   "source": []
  }
 ],
 "metadata": {
  "kernelspec": {
   "display_name": "Python 3",
   "language": "python",
   "name": "python3"
  },
  "language_info": {
   "codemirror_mode": {
    "name": "ipython",
    "version": 3
   },
   "file_extension": ".py",
   "mimetype": "text/x-python",
   "name": "python",
   "nbconvert_exporter": "python",
   "pygments_lexer": "ipython3",
   "version": "3.6.3"
  }
 },
 "nbformat": 4,
 "nbformat_minor": 2
}
